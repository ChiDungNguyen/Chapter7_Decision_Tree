{
 "cells": [
  {
   "cell_type": "markdown",
   "metadata": {},
   "source": [
    "# Chapter 7\n",
    "# Decision Tree\n",
    "\n",
    "Cây quyết định (Decision Tree, viết tắt DT) là một thuật toán ML được sử dụng phổ biến vì tính trực quan dễ giải thích của nó. Thuật toán này áp dụng được cho cả bài toán phân loại (Classification) lẫn hồi quy (Regression). Thuật toán này khá \"dễ tính\" vì nó chấp nhận cả biến định tính lẫn biến định lượng và cũng không đòi hỏi cao về chuẩn hóa dữ liệu. \n",
    "\n",
    "Chương 7 sẽ giải thích bản chất của thuật toán này bằng ngôn ngữ trực quan nhất có thể với sự tham gia tối thiểu của các công thức toán (chúng thường rất phức tạp và trừu tượng) đồng thời khảo sát mức độ ảnh hưởng - hay sự biến đổi chất lượng phân loại của thuật toán DT đối với một số tham số (Hyper-parameters) quan trọng của thuật toán này. Thuật toán DT cùng với ý tưởng của nó được sử dụng để xây dựng và phát triển những mô hình phức tạo hơn như Random Forerst do vậy hiểu được bản chất của thuật toán này là quan trọng. \n",
    "\n",
    "# 7.1 Ý tưởng của Decision Tree\n",
    "\n",
    "Để minh họa chúng ta trở lại với bộ dữ liệu **UniversalBank.csv** nhưng chỉ sử dụng hai features đầu vào là **Income** và **CCAvg**: "
   ]
  },
  {
   "cell_type": "code",
   "execution_count": 1,
   "metadata": {},
   "outputs": [],
   "source": [
    "#============================\n",
    "#   Chuẩn bị dữ liệu \n",
    "#============================\n",
    "\n",
    "# Đọc dữ liệu: \n",
    "import pandas as pd\n",
    "df_bank = pd.read_csv(\"C:/Users/Zbook/Desktop/DataMining/dmba/UniversalBank.csv\")\n",
    "\n",
    "# Bỏ biến không cần thiết: \n",
    "my_df_binary = df_bank.drop([\"ZIP Code\", \"ID\"], axis=1) \n",
    "\n",
    "# Tách ra features và target: \n",
    "Y = my_df_binary[\"Personal Loan\"]\n",
    "X = my_df_binary.drop(\"Personal Loan\", 1)\n",
    "\n",
    "# Phân chia dữ liệu theo tỉ lệ 60 - 40: \n",
    "from sklearn.model_selection import train_test_split\n",
    "X_train, X_test, y_train, y_test = train_test_split(X, Y, test_size = 0.4, random_state = 29, stratify = Y)\n",
    "\n",
    "some_columns = [\"Income\", \"CCAvg\"]\n",
    "\n",
    "X_train_mini = X_train[some_columns]\n",
    "X_test_mini = X_test[some_columns]"
   ]
  },
  {
   "cell_type": "code",
   "execution_count": null,
   "metadata": {},
   "outputs": [],
   "source": []
  }
 ],
 "metadata": {
  "kernelspec": {
   "display_name": "Python 3",
   "language": "python",
   "name": "python3"
  },
  "language_info": {
   "codemirror_mode": {
    "name": "ipython",
    "version": 3
   },
   "file_extension": ".py",
   "mimetype": "text/x-python",
   "name": "python",
   "nbconvert_exporter": "python",
   "pygments_lexer": "ipython3",
   "version": "3.7.3"
  },
  "varInspector": {
   "cols": {
    "lenName": 16,
    "lenType": 16,
    "lenVar": 40
   },
   "kernels_config": {
    "python": {
     "delete_cmd_postfix": "",
     "delete_cmd_prefix": "del ",
     "library": "var_list.py",
     "varRefreshCmd": "print(var_dic_list())"
    },
    "r": {
     "delete_cmd_postfix": ") ",
     "delete_cmd_prefix": "rm(",
     "library": "var_list.r",
     "varRefreshCmd": "cat(var_dic_list()) "
    }
   },
   "types_to_exclude": [
    "module",
    "function",
    "builtin_function_or_method",
    "instance",
    "_Feature"
   ],
   "window_display": false
  }
 },
 "nbformat": 4,
 "nbformat_minor": 4
}
